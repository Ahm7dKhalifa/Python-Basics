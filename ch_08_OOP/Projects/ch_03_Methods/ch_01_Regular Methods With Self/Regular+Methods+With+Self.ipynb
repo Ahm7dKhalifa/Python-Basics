{
 "cells": [
  {
   "cell_type": "code",
   "execution_count": 1,
   "metadata": {
    "collapsed": true
   },
   "outputs": [],
   "source": [
    "class Employee :\n",
    "    #this is class variable\n",
    "    employeeCounter = 0\n",
    "    #constructor\n",
    "    def  __init__(self,firstName,lastName):\n",
    "        self.firstName =firstName\n",
    "        self.lastName = lastName\n",
    "        Employee.employeeCounter += 1\n",
    "    #normal or regular method and the first parameter is must reference to the current obj      \n",
    "    def setFullName(self):\n",
    "        self.fullName = self.firstName + \" \" + self.lastName"
   ]
  },
  {
   "cell_type": "code",
   "execution_count": 2,
   "metadata": {
    "collapsed": true
   },
   "outputs": [],
   "source": [
    "emp1 = Employee('ahmed',\"khalifa\")"
   ]
  },
  {
   "cell_type": "code",
   "execution_count": 3,
   "metadata": {
    "collapsed": true
   },
   "outputs": [],
   "source": [
    "#call normal method without pass its object\n",
    "emp1.setFullName()"
   ]
  },
  {
   "cell_type": "code",
   "execution_count": 4,
   "metadata": {
    "collapsed": false
   },
   "outputs": [
    {
     "name": "stdout",
     "output_type": "stream",
     "text": [
      "ahmed khalifa\n"
     ]
    }
   ],
   "source": [
    "print(emp1.fullName)"
   ]
  },
  {
   "cell_type": "code",
   "execution_count": null,
   "metadata": {
    "collapsed": true
   },
   "outputs": [],
   "source": []
  }
 ],
 "metadata": {
  "kernelspec": {
   "display_name": "Python 3",
   "language": "python",
   "name": "python3"
  },
  "language_info": {
   "codemirror_mode": {
    "name": "ipython",
    "version": 3
   },
   "file_extension": ".py",
   "mimetype": "text/x-python",
   "name": "python",
   "nbconvert_exporter": "python",
   "pygments_lexer": "ipython3",
   "version": "3.6.0"
  }
 },
 "nbformat": 4,
 "nbformat_minor": 2
}
