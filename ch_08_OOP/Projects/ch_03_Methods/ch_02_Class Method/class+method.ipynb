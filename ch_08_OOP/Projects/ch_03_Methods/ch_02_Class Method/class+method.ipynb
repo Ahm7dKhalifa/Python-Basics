{
 "cells": [
  {
   "cell_type": "code",
   "execution_count": 1,
   "metadata": {
    "collapsed": true
   },
   "outputs": [],
   "source": [
    "class Employee :\n",
    "    \n",
    "     #this is class variable\n",
    "    employeeCounter = 0 \n",
    "    \n",
    "    #constructor\n",
    "    def  __init__(self,firstName,lastName):\n",
    "        self.firstName =firstName\n",
    "        self.lastName = lastName\n",
    "        Employee.employeeCounter += 1\n",
    "        \n",
    "    #normal or regular method and the first parameter is must reference to the current obj      \n",
    "    def setFullName(self):\n",
    "        self.fullName = self.firstName + \" \" + self.lastName\n",
    "     \n",
    "    #class method : the first parameter is must reference to the class itself   \n",
    "    @classmethod\n",
    "    def restEmployeeCounter(cls):\n",
    "        cls. employeeCounter = 0 "
   ]
  },
  {
   "cell_type": "code",
   "execution_count": 2,
   "metadata": {
    "collapsed": false
   },
   "outputs": [
    {
     "name": "stdout",
     "output_type": "stream",
     "text": [
      "0\n"
     ]
    }
   ],
   "source": [
    "print(Employee.employeeCounter)"
   ]
  },
  {
   "cell_type": "code",
   "execution_count": 3,
   "metadata": {
    "collapsed": true
   },
   "outputs": [],
   "source": [
    "emp1 = Employee('ahmed',\"khalifa\")"
   ]
  },
  {
   "cell_type": "code",
   "execution_count": 4,
   "metadata": {
    "collapsed": true
   },
   "outputs": [],
   "source": [
    "emp2 = Employee('ahmed_2',\"khalifa_2\")"
   ]
  },
  {
   "cell_type": "code",
   "execution_count": 5,
   "metadata": {
    "collapsed": true
   },
   "outputs": [],
   "source": [
    "emp3 = Employee('ahmed_3',\"khalifa_3\")"
   ]
  },
  {
   "cell_type": "code",
   "execution_count": 6,
   "metadata": {
    "collapsed": false
   },
   "outputs": [
    {
     "name": "stdout",
     "output_type": "stream",
     "text": [
      "3\n"
     ]
    }
   ],
   "source": [
    "print(Employee.employeeCounter)"
   ]
  },
  {
   "cell_type": "markdown",
   "metadata": {},
   "source": [
    "# note : we call class method through one of the objects and effected on class itself and all another objects"
   ]
  },
  {
   "cell_type": "code",
   "execution_count": 7,
   "metadata": {
    "collapsed": true
   },
   "outputs": [],
   "source": [
    "emp1.restEmployeeCounter()"
   ]
  },
  {
   "cell_type": "code",
   "execution_count": 8,
   "metadata": {
    "collapsed": false
   },
   "outputs": [
    {
     "name": "stdout",
     "output_type": "stream",
     "text": [
      "0\n",
      "0\n",
      "0\n",
      "0\n"
     ]
    }
   ],
   "source": [
    "print(Employee.employeeCounter)\n",
    "print(emp1.employeeCounter)\n",
    "print(emp2.employeeCounter)\n",
    "print(emp3.employeeCounter)"
   ]
  },
  {
   "cell_type": "code",
   "execution_count": null,
   "metadata": {
    "collapsed": true
   },
   "outputs": [],
   "source": []
  }
 ],
 "metadata": {
  "kernelspec": {
   "display_name": "Python 3",
   "language": "python",
   "name": "python3"
  },
  "language_info": {
   "codemirror_mode": {
    "name": "ipython",
    "version": 3
   },
   "file_extension": ".py",
   "mimetype": "text/x-python",
   "name": "python",
   "nbconvert_exporter": "python",
   "pygments_lexer": "ipython3",
   "version": "3.6.0"
  }
 },
 "nbformat": 4,
 "nbformat_minor": 2
}
