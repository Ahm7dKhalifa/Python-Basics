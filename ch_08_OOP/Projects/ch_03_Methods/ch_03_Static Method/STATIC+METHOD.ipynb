{
 "cells": [
  {
   "cell_type": "code",
   "execution_count": 12,
   "metadata": {
    "collapsed": true
   },
   "outputs": [],
   "source": [
    "class Employee :\n",
    "    \n",
    "     #this is class variable\n",
    "    employeeCounter = 0 \n",
    "    \n",
    "    #constructor\n",
    "    def  __init__(self,firstName,lastName):\n",
    "        self.firstName =firstName\n",
    "        self.lastName = lastName\n",
    "        Employee.employeeCounter += 1\n",
    "        \n",
    "    #normal or regular method and the first parameter is must reference to the current obj      \n",
    "    def setFullName(self):\n",
    "        self.fullName = self.firstName + \" \" + self.lastName\n",
    "     \n",
    "    #class method : the first parameter is must reference to the class itself   \n",
    "    @classmethod\n",
    "    def restEmployeeCounter(cls):\n",
    "        cls. employeeCounter = 0 \n",
    "    \n",
    "    #static method : the first parameter is (not) reference to the class or the object   \n",
    "    @staticmethod\n",
    "    def calculateTwoNumber(x,y):\n",
    "        return x + y\n",
    "    "
   ]
  },
  {
   "cell_type": "code",
   "execution_count": 11,
   "metadata": {
    "collapsed": false
   },
   "outputs": [
    {
     "name": "stdout",
     "output_type": "stream",
     "text": [
      "12\n"
     ]
    }
   ],
   "source": [
    "add = Employee.calculateTwoNumber(10,2)\n",
    "print(add)"
   ]
  },
  {
   "cell_type": "code",
   "execution_count": 2,
   "metadata": {
    "collapsed": true
   },
   "outputs": [],
   "source": [
    "emp1 = Employee('ahmed',\"khalifa\")"
   ]
  },
  {
   "cell_type": "code",
   "execution_count": 5,
   "metadata": {
    "collapsed": false
   },
   "outputs": [
    {
     "name": "stdout",
     "output_type": "stream",
     "text": [
      "12\n"
     ]
    }
   ],
   "source": [
    "addFromObj = emp1.calculateTwoNumber(10,2)\n",
    "print(addFromObj)"
   ]
  },
  {
   "cell_type": "code",
   "execution_count": null,
   "metadata": {
    "collapsed": true
   },
   "outputs": [],
   "source": []
  }
 ],
 "metadata": {
  "kernelspec": {
   "display_name": "Python 3",
   "language": "python",
   "name": "python3"
  },
  "language_info": {
   "codemirror_mode": {
    "name": "ipython",
    "version": 3
   },
   "file_extension": ".py",
   "mimetype": "text/x-python",
   "name": "python",
   "nbconvert_exporter": "python",
   "pygments_lexer": "ipython3",
   "version": "3.6.0"
  }
 },
 "nbformat": 4,
 "nbformat_minor": 2
}
